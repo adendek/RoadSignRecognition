{
 "cells": [
  {
   "cell_type": "code",
   "execution_count": 2,
   "metadata": {},
   "outputs": [
    {
     "name": "stderr",
     "output_type": "stream",
     "text": [
      "Using TensorFlow backend.\n"
     ]
    }
   ],
   "source": [
    "import os\n",
    "import matplotlib\n",
    "import matplotlib.pyplot as plt\n",
    "import numpy as np\n",
    "from keras.utils.np_utils import to_categorical\n",
    "from keras.models import Model\n",
    "from keras.layers import Dense, Flatten, Input, Dropout\n",
    "from keras.layers import Conv2D, MaxPooling2D\n",
    "from sklearn.model_selection import train_test_split\n",
    "import shutil\n",
    "from keras.preprocessing.image import ImageDataGenerator\n",
    "from keras.models import Sequential\n",
    "from keras.metrics import top_k_categorical_accuracy"
   ]
  },
  {
   "cell_type": "code",
   "execution_count": 3,
   "metadata": {},
   "outputs": [
    {
     "name": "stdout",
     "output_type": "stream",
     "text": [
      "Refusing to delete testing data directory Validation\n",
      "Refusing to delete testing data directory Training_Splitted\n",
      "Processed 2770 training files.\n",
      "Processed 1867 testing files.\n"
     ]
    }
   ],
   "source": [
    "def spliting_training_and_validation(all_data_dir, training_data_dir, testing_data_dir, testing_data_pct):\n",
    "    if testing_data_dir.count('/') > 1:\n",
    "        os.makedirs(testing_data_dir)\n",
    "        print(\"Successfully cleaned directory \" + testing_data_dir)\n",
    "    else:\n",
    "        print(\"Refusing to delete testing data directory \" + testing_data_dir)\n",
    "\n",
    "    if training_data_dir.count('/') > 1:\n",
    "        os.makedirs(training_data_dir)\n",
    "        print(\"Successfully cleaned directory \" + training_data_dir)\n",
    "    else:\n",
    "        print(\"Refusing to delete testing data directory \" + training_data_dir)\n",
    "\n",
    "    num_training_files = 0\n",
    "    num_testing_files = 0\n",
    "\n",
    "    for subdir, dirs, files in os.walk(all_data_dir):\n",
    "        category_name = os.path.basename(subdir)\n",
    "\n",
    "        # Don't create a subdirectory for the root directory\n",
    "        if category_name == os.path.basename(all_data_dir):\n",
    "            continue\n",
    "\n",
    "        training_data_category_dir = training_data_dir + '/' + category_name\n",
    "        testing_data_category_dir = testing_data_dir + '/' + category_name\n",
    "\n",
    "        if not os.path.exists(training_data_category_dir):\n",
    "            os.mkdir(training_data_category_dir)\n",
    "\n",
    "        if not os.path.exists(testing_data_category_dir):\n",
    "            os.mkdir(testing_data_category_dir)\n",
    "\n",
    "        for file in files:\n",
    "            input_file = os.path.join(subdir, file)\n",
    "            if np.random.rand(1) < testing_data_pct:\n",
    "                shutil.copy(input_file, testing_data_dir + '/' + category_name + '/' + file)\n",
    "                num_testing_files += 1\n",
    "            else:\n",
    "                shutil.copy(input_file, training_data_dir + '/' + category_name + '/' + file)\n",
    "                num_training_files += 1\n",
    "\n",
    "    print(\"Processed \" + str(num_training_files) + \" training files.\")\n",
    "    print(\"Processed \" + str(num_testing_files) + \" testing files.\")\n",
    "    \n",
    "    \n",
    "\n",
    "\n",
    "spliting_training_and_validation('Training','Training_Splitted','Validation',0.4)"
   ]
  },
  {
   "cell_type": "code",
   "execution_count": 4,
   "metadata": {},
   "outputs": [
    {
     "name": "stdout",
     "output_type": "stream",
     "text": [
      "Found 4558 images belonging to 62 classes.\n",
      "Found 4347 images belonging to 62 classes.\n",
      "Found 2520 images belonging to 62 classes.\n"
     ]
    },
    {
     "data": {
      "image/png": "[encoded data removed]",
      "text/plain": [
       "<matplotlib.figure.Figure at 0x7f610878e9e8>"
      ]
     },
     "metadata": {},
     "output_type": "display_data"
    },
    {
     "data": {
      "image/png": "[encoded data removed]",
      "text/plain": [
       "<matplotlib.figure.Figure at 0x7f610878e128>"
      ]
     },
     "metadata": {},
     "output_type": "display_data"
    },
    {
     "data": {
      "image/png": "[encoded data removed]",
      "text/plain": [
       "<matplotlib.figure.Figure at 0x7f610bc46d68>"
      ]
     },
     "metadata": {},
     "output_type": "display_data"
    }
   ],
   "source": [
    "train_data = ImageDataGenerator(rescale=1. / 255, shear_range=0.2, zoom_range=0.2, horizontal_flip=True)\n",
    "val_data = ImageDataGenerator(rescale=1. / 255)\n",
    "test_data = ImageDataGenerator(rescale=1. / 255)\n",
    "\n",
    "training_set = train_data.flow_from_directory('Training_Splitted', target_size=(64, 64), batch_size=1, class_mode='categorical')\n",
    "validation_set = train_data.flow_from_directory('Validation', target_size=(64, 64), batch_size=1, class_mode='categorical')\n",
    "test_set = test_data.flow_from_directory('Testing', target_size=(64, 64), batch_size=1, shuffle = False, class_mode='categorical')\n",
    "\n",
    "plt.hist(training_set.classes, bins='auto') \n",
    "plt.title(\"Histogram of training dataset\")\n",
    "plt.show()\n",
    "\n",
    "plt.hist(validation_set.classes, bins='auto') \n",
    "plt.title(\"Histogram of training dataset\")\n",
    "plt.show()\n",
    "\n",
    "plt.hist(test_set.classes, bins='auto') \n",
    "plt.title(\"Histogram of training dataset\")\n",
    "plt.show()\n",
    "\n"
   ]
  },
  {
   "cell_type": "code",
   "execution_count": 7,
   "metadata": {},
   "outputs": [],
   "source": [
    "def top_5_accuracy(y_true, y_pred):\n",
    "    return top_k_categorical_accuracy(y_true, y_pred, k=5)"
   ]
  },
  {
   "cell_type": "code",
   "execution_count": 8,
   "metadata": {},
   "outputs": [
    {
     "name": "stdout",
     "output_type": "stream",
     "text": [
      "Epoch 1/15\n",
      "100/100 [==============================] - 162s 2s/step - loss: 4.6339 - acc: 0.0500 - top_k_categorical_accuracy: 0.1600 - val_loss: 3.8434 - val_acc: 0.0430 - val_top_k_categorical_accuracy: 0.3149\n",
      "Epoch 2/15\n",
      "100/100 [==============================] - 158s 2s/step - loss: 4.0352 - acc: 0.0700 - top_k_categorical_accuracy: 0.2200 - val_loss: 3.6556 - val_acc: 0.1546 - val_top_k_categorical_accuracy: 0.3984\n",
      "Epoch 3/15\n",
      "100/100 [==============================] - 169s 2s/step - loss: 3.9061 - acc: 0.1000 - top_k_categorical_accuracy: 0.4000 - val_loss: 3.4140 - val_acc: 0.1712 - val_top_k_categorical_accuracy: 0.4934\n",
      "Epoch 4/15\n",
      "100/100 [==============================] - 178s 2s/step - loss: 3.7208 - acc: 0.1300 - top_k_categorical_accuracy: 0.3500 - val_loss: 3.5270 - val_acc: 0.1661 - val_top_k_categorical_accuracy: 0.4723\n",
      "Epoch 5/15\n",
      "100/100 [==============================] - 194s 2s/step - loss: 3.6688 - acc: 0.2000 - top_k_categorical_accuracy: 0.4000 - val_loss: 3.2622 - val_acc: 0.1797 - val_top_k_categorical_accuracy: 0.5128\n",
      "Epoch 6/15\n",
      "100/100 [==============================] - 182s 2s/step - loss: 3.6601 - acc: 0.1000 - top_k_categorical_accuracy: 0.4900 - val_loss: 3.2122 - val_acc: 0.2372 - val_top_k_categorical_accuracy: 0.5631\n",
      "Epoch 7/15\n",
      "100/100 [==============================] - 231s 2s/step - loss: 3.5585 - acc: 0.1800 - top_k_categorical_accuracy: 0.5500 - val_loss: 3.0335 - val_acc: 0.3299 - val_top_k_categorical_accuracy: 0.5781\n",
      "Epoch 8/15\n",
      "100/100 [==============================] - 253s 3s/step - loss: 3.5713 - acc: 0.2300 - top_k_categorical_accuracy: 0.5400 - val_loss: 3.3220 - val_acc: 0.2832 - val_top_k_categorical_accuracy: 0.5783\n",
      "Epoch 9/15\n",
      "100/100 [==============================] - 305s 3s/step - loss: 3.0760 - acc: 0.3600 - top_k_categorical_accuracy: 0.5900 - val_loss: 3.3414 - val_acc: 0.3191 - val_top_k_categorical_accuracy: 0.5714\n",
      "Epoch 10/15\n",
      "100/100 [==============================] - 351s 4s/step - loss: 3.1885 - acc: 0.2800 - top_k_categorical_accuracy: 0.5900 - val_loss: 2.6934 - val_acc: 0.4040 - val_top_k_categorical_accuracy: 0.5947\n",
      "Epoch 11/15\n",
      "100/100 [==============================] - 323s 3s/step - loss: 3.1237 - acc: 0.3900 - top_k_categorical_accuracy: 0.5700 - val_loss: 2.6396 - val_acc: 0.3246 - val_top_k_categorical_accuracy: 0.6266\n",
      "Epoch 12/15\n",
      "100/100 [==============================] - 321s 3s/step - loss: 3.1476 - acc: 0.3000 - top_k_categorical_accuracy: 0.5600 - val_loss: 2.6817 - val_acc: 0.4143 - val_top_k_categorical_accuracy: 0.6365\n",
      "Epoch 13/15\n",
      "100/100 [==============================] - 312s 3s/step - loss: 2.6280 - acc: 0.3600 - top_k_categorical_accuracy: 0.6200 - val_loss: 2.5972 - val_acc: 0.3844 - val_top_k_categorical_accuracy: 0.6678\n",
      "Epoch 14/15\n",
      "100/100 [==============================] - 308s 3s/step - loss: 3.4835 - acc: 0.4100 - top_k_categorical_accuracy: 0.6800 - val_loss: 4.2782 - val_acc: 0.4212 - val_top_k_categorical_accuracy: 0.6496\n",
      "Epoch 15/15\n",
      "100/100 [==============================] - 312s 3s/step - loss: 3.3606 - acc: 0.4500 - top_k_categorical_accuracy: 0.6600 - val_loss: 2.6311 - val_acc: 0.4196 - val_top_k_categorical_accuracy: 0.6818\n"
     ]
    }
   ],
   "source": [
    "x = Sequential()\n",
    "\n",
    "x.add(Conv2D(32, (3, 3), input_shape = (64, 64, 3), activation = 'relu'))\n",
    "x.add(Conv2D(32, (3, 3), input_shape = (64, 64, 3), activation = 'relu'))\n",
    "x.add(Conv2D(32, (3, 3), input_shape = (64, 64, 3), activation = 'relu'))\n",
    "x.add(MaxPooling2D(pool_size = (2, 2)))\n",
    "x.add(Dropout(0.25))\n",
    "\n",
    "x.add(Conv2D(32, (3, 3), input_shape = (64, 64, 3), activation = 'relu'))\n",
    "x.add(Conv2D(32, (3, 3), input_shape = (64, 64, 3), activation = 'relu'))\n",
    "x.add(MaxPooling2D(pool_size = (2, 2)))\n",
    "x.add(Dropout(0.25))\n",
    "\n",
    "x.add(Flatten(input_shape=x.output_shape[1:]))\n",
    "x.add(Dense(units = 256, activation = 'relu'))\n",
    "x.add(Dropout(0.5))\n",
    "x.add(Dense(units = 62, activation = 'softmax'))\n",
    "\n",
    "x.compile(optimizer='rmsprop',loss='categorical_crossentropy',metrics=['accuracy', 'top_k_categorical_accuracy'])\n",
    "\n",
    "epoch_no=15\n",
    "hist=x.fit_generator(training_set,steps_per_epoch = 100,epochs = epoch_no,validation_data = validation_set)\n",
    "x.save('my_classifier.h5')"
   ]
  },
  {
   "cell_type": "code",
   "execution_count": 9,
   "metadata": {
    "collapsed": true
   },
   "outputs": [],
   "source": [
    "train_loss=hist.history['loss']\n",
    "val_loss=hist.history['val_loss']\n",
    "train_acc=hist.history['acc']\n",
    "val_acc=hist.history['val_acc']\n",
    "train_acc_top5 = hist.history['top_k_categorical_accuracy']\n",
    "val_acc_top5 = hist.history['val_top_k_categorical_accuracy']\n",
    "xc=range(epoch_no)"
   ]
  },
  {
   "cell_type": "code",
   "execution_count": 19,
   "metadata": {
    "collapsed": true
   },
   "outputs": [],
   "source": [
    "plt.figure(1,figsize=(7,5))\n",
    "plt.plot(xc,train_loss)\n",
    "plt.plot(xc,val_loss)\n",
    "plt.xlabel('num of Epochs')\n",
    "plt.ylabel('loss')\n",
    "plt.title('train_loss vs val_loss')\n",
    "plt.grid(True)\n",
    "plt.legend(['train','val'])\n",
    "plt.style.use(['classic'])\n",
    "plt.savefig(\"train_loss vs val_loss.png\")"
   ]
  },
  {
   "cell_type": "code",
   "execution_count": 20,
   "metadata": {
    "collapsed": true
   },
   "outputs": [],
   "source": [
    "plt.figure(2,figsize=(7,5))\n",
    "plt.plot(xc,val_acc)\n",
    "plt.plot(xc,train_acc)\n",
    "plt.xlabel('num of Epochs')\n",
    "plt.ylabel('accuracy')\n",
    "plt.title('train_acc vs val_acc')\n",
    "plt.grid(True)\n",
    "plt.legend(['val','train'],loc=4)\n",
    "plt.style.use(['classic'])\n",
    "plt.savefig(\"train_acc vs val_acc.png\")"
   ]
  },
  {
   "cell_type": "code",
   "execution_count": 21,
   "metadata": {},
   "outputs": [],
   "source": [
    "plt.figure()\n",
    "plt.plot(xc, val_loss, label='val_loss')\n",
    "plt.plot(xc, train_loss, label='train_loss')\n",
    "plt.ylabel(\"categorical_crossentropy\")\n",
    "plt.xlabel(\"number of epoch\")\n",
    "plt.legend()\n",
    "plt.savefig(\"Loss_top5.png\")"
   ]
  },
  {
   "cell_type": "code",
   "execution_count": 22,
   "metadata": {},
   "outputs": [],
   "source": [
    "plt.figure()\n",
    "plt.plot(xc, val_acc_top5, label='val')\n",
    "plt.plot(xc, train_acc_top5, label='train')\n",
    "plt.legend(loc=4)\n",
    "plt.ylabel(\"accuracy\")\n",
    "plt.xlabel(\"number of epoch\")\n",
    "plt.savefig(\"Accuracy_top5.png\")"
   ]
  },
  {
   "cell_type": "code",
   "execution_count": 23,
   "metadata": {},
   "outputs": [
    {
     "name": "stdout",
     "output_type": "stream",
     "text": [
      "Test Loss: 2.57964681811\n",
      "Test accuracy: 0.427380952381\n"
     ]
    }
   ],
   "source": [
    "score = x.evaluate_generator(test_set)\n",
    "print('Test Loss:', score[0])\n",
    "print('Test accuracy:', score[1])"
   ]
  }
 ],
 "metadata": {
  "kernelspec": {
   "display_name": "Python 3",
   "language": "python",
   "name": "python3"
  },
  "language_info": {
   "codemirror_mode": {
    "name": "ipython",
    "version": 3
   },
   "file_extension": ".py",
   "mimetype": "text/x-python",
   "name": "python",
   "nbconvert_exporter": "python",
   "pygments_lexer": "ipython3",
   "version": "3.6.3"
  }
 },
 "nbformat": 4,
 "nbformat_minor": 2
}
